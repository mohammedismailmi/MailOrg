{
 "cells": [
  {
   "cell_type": "code",
   "execution_count": 1,
   "id": "2aa571be-90dd-4a2f-b37f-ebfaaa2dd455",
   "metadata": {},
   "outputs": [],
   "source": [
    "import pandas as pd"
   ]
  },
  {
   "cell_type": "code",
   "execution_count": 2,
   "id": "c4f72359-806e-46b3-afeb-e7d43e6a3def",
   "metadata": {},
   "outputs": [],
   "source": [
    "df = pd.read_csv(r\"Data In CSV/New1.csv\")"
   ]
  },
  {
   "cell_type": "code",
   "execution_count": 3,
   "id": "a206387c-6191-46b9-b9f0-81b390247f9c",
   "metadata": {},
   "outputs": [
    {
     "data": {
      "text/plain": [
       "(12569, 6)"
      ]
     },
     "execution_count": 3,
     "metadata": {},
     "output_type": "execute_result"
    }
   ],
   "source": [
    "df.shape"
   ]
  },
  {
   "cell_type": "code",
   "execution_count": 4,
   "id": "52c8e421-9554-4c0b-8fdf-076e23019731",
   "metadata": {},
   "outputs": [],
   "source": [
    "df1 = pd.read_csv(r\"Data In CSV/New1.csv\")"
   ]
  },
  {
   "cell_type": "code",
   "execution_count": 5,
   "id": "1b4e2150-1b9a-4013-bc36-b8dccafd7fbb",
   "metadata": {},
   "outputs": [
    {
     "data": {
      "text/plain": [
       "(12569, 6)"
      ]
     },
     "execution_count": 5,
     "metadata": {},
     "output_type": "execute_result"
    }
   ],
   "source": [
    "df1.shape"
   ]
  },
  {
   "cell_type": "code",
   "execution_count": 6,
   "id": "42ccae5e-5104-4c81-a598-975920e92b62",
   "metadata": {},
   "outputs": [
    {
     "data": {
      "text/plain": [
       "Subject       0\n",
       "Sender       52\n",
       "Receiver     64\n",
       "Date         58\n",
       "Random_id    64\n",
       "Body         74\n",
       "dtype: int64"
      ]
     },
     "execution_count": 6,
     "metadata": {},
     "output_type": "execute_result"
    }
   ],
   "source": [
    "df.isnull().sum()"
   ]
  },
  {
   "cell_type": "code",
   "execution_count": 7,
   "id": "d4d9c4f6-6ef0-4333-805f-33359cf0ace7",
   "metadata": {
    "scrolled": true
   },
   "outputs": [
    {
     "name": "stdout",
     "output_type": "stream",
     "text": [
      "Locations of null values:\n",
      "       Subject  Sender  Receiver   Date  Random_id   Body\n",
      "0        False   False     False  False      False  False\n",
      "1        False   False     False  False      False  False\n",
      "2        False   False     False  False      False  False\n",
      "3        False   False     False  False      False  False\n",
      "4        False   False     False  False      False  False\n",
      "...        ...     ...       ...    ...        ...    ...\n",
      "12564    False   False     False  False      False  False\n",
      "12565    False   False     False  False      False  False\n",
      "12566    False   False     False  False      False  False\n",
      "12567    False   False     False  False      False  False\n",
      "12568    False   False     False  False      False  False\n",
      "\n",
      "[12569 rows x 6 columns]\n",
      "\n",
      "Rows with null values:\n",
      "                                                 Subject  \\\n",
      "938    Celebrate International Sign Language Day with...   \n",
      "2440                                          no_subject   \n",
      "2442                                          no_subject   \n",
      "4204   Use coupon code BLACK24 at checkout to save 30...   \n",
      "4205   ͏ ‌     ﻿ ͏ ‌     ﻿ ͏ ‌     ﻿ ͏ ‌     ﻿ ͏ ‌   ...   \n",
      "...                                                  ...   \n",
      "12077  This email was sent to mohammedismail0602@gmai...   \n",
      "12078              Unsubscribe from Denison University.\"   \n",
      "12293                                         no_subject   \n",
      "12294                                         no_subject   \n",
      "12299                                         no_subject   \n",
      "\n",
      "                                              Sender  \\\n",
      "938    Infosys Springboard <springboard@infosys.com>   \n",
      "2440                shilpa c j <jeevanacj@gmail.com>   \n",
      "2442                shilpa c j <jeevanacj@gmail.com>   \n",
      "4204                                             NaN   \n",
      "4205                                             NaN   \n",
      "...                                              ...   \n",
      "12077                                            NaN   \n",
      "12078                                            NaN   \n",
      "12293                  Arfa <syedaarfa107@gmail.com>   \n",
      "12294                  Arfa <syedaarfa107@gmail.com>   \n",
      "12299               Arnidh <mehulgoyal238@gmail.com>   \n",
      "\n",
      "                                                Receiver       Date Random_id  \\\n",
      "938                             Undisclosed recipients:;  9/25/2024    227614   \n",
      "2440                                cjsakshi29@gmail.com  9/05/2023  14815845   \n",
      "2442                                cjsakshi29@gmail.com  7/22/2023    591647   \n",
      "4204                                                 NaN        NaN       NaN   \n",
      "4205                                                 NaN        NaN       NaN   \n",
      "...                                                  ...        ...       ...   \n",
      "12077                                                NaN        NaN       NaN   \n",
      "12078                                                NaN        NaN       NaN   \n",
      "12293                       mohammedismail0602@gmail.com  8/31/2022     25259   \n",
      "12294   mohammedismail0602@gmail.com <mohammedismail0602  8/31/2022     25850   \n",
      "12299  \"shruthikanagesh2011@gmail.com, mohammedismail...  8/28/2022      7513   \n",
      "\n",
      "      Body  \n",
      "938    NaN  \n",
      "2440   NaN  \n",
      "2442   NaN  \n",
      "4204   NaN  \n",
      "4205   NaN  \n",
      "...    ...  \n",
      "12077  NaN  \n",
      "12078  NaN  \n",
      "12293  NaN  \n",
      "12294  NaN  \n",
      "12299  NaN  \n",
      "\n",
      "[83 rows x 6 columns]\n"
     ]
    }
   ],
   "source": [
    "null_data = df.isnull()\n",
    "\n",
    "# Display the locations of null values (True indicates a null value)\n",
    "print(\"Locations of null values:\")\n",
    "print(null_data)\n",
    "\n",
    "# Extract rows where any column has a null value\n",
    "rows_with_null = df[null_data.any(axis=1)]\n",
    "\n",
    "# Display the full data (rows) with null values\n",
    "print(\"\\nRows with null values:\")\n",
    "print(rows_with_null)\n",
    "\n",
    "# # Count the number of null values in each column\n",
    "# null_count = df.isnull().sum()\n",
    "# print(\"\\nNumber of null values in each column:\")\n",
    "# print(null_count)\n",
    "\n",
    "# # Optionally, filter rows with null values\n",
    "# rows_with_null = df[df.isnull().any(axis=1)]\n",
    "# print(\"\\nRows with null values:\")\n",
    "# print(rows_with_null)"
   ]
  },
  {
   "cell_type": "code",
   "execution_count": 8,
   "id": "f54e9f10-6757-4fe5-9d7a-518863bd7793",
   "metadata": {},
   "outputs": [],
   "source": [
    "df_nonull = df.dropna()"
   ]
  },
  {
   "cell_type": "code",
   "execution_count": 9,
   "id": "4fa8292d-f7be-471f-8c27-5f4320b4394c",
   "metadata": {},
   "outputs": [
    {
     "data": {
      "text/plain": [
       "Subject      0\n",
       "Sender       0\n",
       "Receiver     0\n",
       "Date         0\n",
       "Random_id    0\n",
       "Body         0\n",
       "dtype: int64"
      ]
     },
     "execution_count": 9,
     "metadata": {},
     "output_type": "execute_result"
    }
   ],
   "source": [
    "df_nonull.isnull().sum()"
   ]
  },
  {
   "cell_type": "code",
   "execution_count": null,
   "id": "c6695e30-866d-4c1c-aa39-065dc0074bd1",
   "metadata": {},
   "outputs": [],
   "source": []
  },
  {
   "cell_type": "code",
   "execution_count": 10,
   "id": "7b612902-ecc0-4bcc-98f4-830a8d737bc7",
   "metadata": {},
   "outputs": [
    {
     "data": {
      "text/plain": [
       "(12486, 6)"
      ]
     },
     "execution_count": 10,
     "metadata": {},
     "output_type": "execute_result"
    }
   ],
   "source": [
    "df_nonull.shape"
   ]
  },
  {
   "cell_type": "code",
   "execution_count": 11,
   "id": "88602563-5a2b-4164-a2cf-e3350842b707",
   "metadata": {},
   "outputs": [],
   "source": [
    "\n",
    "df_nonull.to_csv(\"Data In CSV/NewFinal.csv\", index=False)"
   ]
  },
  {
   "cell_type": "code",
   "execution_count": 22,
   "id": "0228036f-ffb7-48b3-96fd-000d4930298d",
   "metadata": {},
   "outputs": [
    {
     "ename": "ModuleNotFoundError",
     "evalue": "No module named 'gensim'",
     "output_type": "error",
     "traceback": [
      "\u001b[0;31m---------------------------------------------------------------------------\u001b[0m",
      "\u001b[0;31mModuleNotFoundError\u001b[0m                       Traceback (most recent call last)",
      "Cell \u001b[0;32mIn[22], line 3\u001b[0m\n\u001b[1;32m      1\u001b[0m \u001b[38;5;28;01mimport\u001b[39;00m\u001b[38;5;250m \u001b[39m\u001b[38;5;21;01mre\u001b[39;00m\n\u001b[1;32m      2\u001b[0m \u001b[38;5;28;01mimport\u001b[39;00m\u001b[38;5;250m \u001b[39m\u001b[38;5;21;01mpandas\u001b[39;00m\u001b[38;5;250m \u001b[39m\u001b[38;5;28;01mas\u001b[39;00m\u001b[38;5;250m \u001b[39m\u001b[38;5;21;01mpd\u001b[39;00m\n\u001b[0;32m----> 3\u001b[0m \u001b[38;5;28;01mimport\u001b[39;00m\u001b[38;5;250m \u001b[39m\u001b[38;5;21;01mgensim\u001b[39;00m\u001b[38;5;21;01m.\u001b[39;00m\u001b[38;5;21;01mdownloader\u001b[39;00m\u001b[38;5;250m \u001b[39m\u001b[38;5;28;01mas\u001b[39;00m\u001b[38;5;250m \u001b[39m\u001b[38;5;21;01mapi\u001b[39;00m\n\u001b[1;32m      4\u001b[0m \u001b[38;5;28;01mimport\u001b[39;00m\u001b[38;5;250m \u001b[39m\u001b[38;5;21;01mnumpy\u001b[39;00m\u001b[38;5;250m \u001b[39m\u001b[38;5;28;01mas\u001b[39;00m\u001b[38;5;250m \u001b[39m\u001b[38;5;21;01mnp\u001b[39;00m\n\u001b[1;32m      6\u001b[0m \u001b[38;5;66;03m# Load pre-trained Word2Vec model\u001b[39;00m\n",
      "\u001b[0;31mModuleNotFoundError\u001b[0m: No module named 'gensim'"
     ]
    }
   ],
   "source": [
    "import re\n",
    "import pandas as pd\n",
    "import gensim.downloader as api\n",
    "import numpy as np\n",
    "\n",
    "# Load pre-trained Word2Vec model\n",
    "try:\n",
    "    wv = api.load('word2vec-google-news-300')\n",
    "except Exception as e:\n",
    "    print(f\"Error loading Word2Vec model: {e}\")\n",
    "    print(\"Please ensure you have an internet connection and that the model name is correct.\")\n",
    "    exit()  # Exit the script if the model fails to load\n",
    "\n",
    "# Load the CSV file into a DataFrame\n",
    "df = pd.read_csv(\"Data In CSV/Merged.csv\")\n",
    "\n",
    "# Ensure the 'Body' column is treated as string\n",
    "df['Body'] = df['Body'].astype(str)\n",
    "\n",
    "def preprocess_text(text):\n",
    "    \"\"\"Preprocesses the text by lowercasing, removing punctuation, and non-alphanumeric chars\"\"\"\n",
    "    text = text.lower()\n",
    "    text = re.sub(r'[^a-zA-Z\\s]', '', text)\n",
    "    return text\n",
    "\n",
    "def vectorize_text(text):\n",
    "    \"\"\"Converts the given text to a vector using pre-trained Word2Vec.\"\"\"\n",
    "    tokens = text.split()\n",
    "    vectors = [wv[token] for token in tokens if token in wv]\n",
    "    if not vectors:\n",
    "      return np.zeros(wv.vector_size)  # Return a zero vector\n",
    "    return np.mean(vectors, axis=0)\n",
    "\n",
    "\n",
    "# Apply preprocessing to the 'Body' column\n",
    "df['Cleaned_Body'] = df['Body'].apply(preprocess_text)\n",
    "\n",
    "# Apply vectorization to each cleaned text\n",
    "df['Body_Vectors'] = df['Cleaned_Body'].apply(vectorize_text)\n",
    "\n",
    "# Display a few of the resulting vectors to verify\n",
    "print(df['Body_Vectors'].head())"
   ]
  },
  {
   "cell_type": "code",
   "execution_count": null,
   "id": "656337a7-b2e9-4e77-86fe-abda02691d19",
   "metadata": {},
   "outputs": [],
   "source": []
  }
 ],
 "metadata": {
  "kernelspec": {
   "display_name": "Python 3 (ipykernel)",
   "language": "python",
   "name": "python3"
  },
  "language_info": {
   "codemirror_mode": {
    "name": "ipython",
    "version": 3
   },
   "file_extension": ".py",
   "mimetype": "text/x-python",
   "name": "python",
   "nbconvert_exporter": "python",
   "pygments_lexer": "ipython3",
   "version": "3.11.11"
  }
 },
 "nbformat": 4,
 "nbformat_minor": 5
}
